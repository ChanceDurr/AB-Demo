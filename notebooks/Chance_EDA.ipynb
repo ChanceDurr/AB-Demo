{
  "nbformat": 4,
  "nbformat_minor": 0,
  "metadata": {
    "colab": {
      "name": "Chance_EDA_2.ipynb",
      "version": "0.3.2",
      "provenance": [],
      "toc_visible": true,
      "machine_shape": "hm",
      "include_colab_link": true
    },
    "kernelspec": {
      "name": "python3",
      "display_name": "Python 3"
    },
    "accelerator": "GPU"
  },
  "cells": [
    {
      "cell_type": "markdown",
      "metadata": {
        "id": "view-in-github",
        "colab_type": "text"
      },
      "source": [
        "<a href=\"https://colab.research.google.com/github/ChanceDurr/AB-Demo/blob/master/notebooks/Chance_EDA.ipynb\" target=\"_parent\"><img src=\"https://colab.research.google.com/assets/colab-badge.svg\" alt=\"Open In Colab\"/></a>"
      ]
    },
    {
      "cell_type": "markdown",
      "metadata": {
        "id": "IgY_S3U3gQKB",
        "colab_type": "text"
      },
      "source": [
        "## Imports"
      ]
    },
    {
      "cell_type": "code",
      "metadata": {
        "id": "HlsCykmnf5xa",
        "colab_type": "code",
        "colab": {}
      },
      "source": [
        "# !pip install kaggle\n",
        "# !mkdir .kaggle\n",
        "\n",
        "# import json\n",
        "# token = ''\n",
        "# with open('/content/.kaggle/kaggle.json', 'w') as file:\n",
        "#     json.dump(token, file)\n",
        "    \n",
        "# !cp /content/.kaggle/kaggle.json ~/.kaggle/kaggle.json\n",
        "# !kaggle config set -n path -v{/content}\n",
        "\n",
        "# !chmod 600 /root/.kaggle/kaggle.json\n",
        "\n",
        "\n",
        "# !kaggle competitions download -c champs-scalar-coupling"
      ],
      "execution_count": 0,
      "outputs": []
    },
    {
      "cell_type": "code",
      "metadata": {
        "id": "kpGNmD03f_zj",
        "colab_type": "code",
        "outputId": "200b9860-1728-4c81-8bc8-bc0ee0087fff",
        "colab": {
          "base_uri": "https://localhost:8080/",
          "height": 354
        }
      },
      "source": [
        "!pip install category_encoders eli5\n",
        "\n",
        "from category_encoders import OrdinalEncoder, OneHotEncoder\n",
        "import eli5\n",
        "from eli5.sklearn import PermutationImportance\n",
        "\n",
        "import pandas as pd\n",
        "import matplotlib.pyplot as plt\n",
        "import numpy as np\n",
        "\n",
        "from sklearn.model_selection import train_test_split\n",
        "from sklearn.linear_model import LinearRegression\n",
        "from sklearn.ensemble import RandomForestRegressor\n",
        "from sklearn.pipeline import make_pipeline\n",
        "from sklearn.metrics import mean_absolute_error\n",
        "from sklearn.preprocessing import OneHotEncoder as OHE\n",
        "\n",
        "from hyperopt import fmin, hp, tpe, Trials, space_eval, STATUS_OK, STATUS_RUNNING\n",
        "from functools import partial\n",
        "\n",
        "import xgboost as xgb\n",
        "from xgboost import XGBRegressor\n",
        "from lightgbm import LGBMRegressor\n",
        "import lightgbm"
      ],
      "execution_count": 271,
      "outputs": [
        {
          "output_type": "stream",
          "text": [
            "Requirement already satisfied: category_encoders in /usr/local/lib/python3.6/dist-packages (2.0.0)\n",
            "Requirement already satisfied: eli5 in /usr/local/lib/python3.6/dist-packages (0.9.0)\n",
            "Requirement already satisfied: pandas>=0.21.1 in /usr/local/lib/python3.6/dist-packages (from category_encoders) (0.24.2)\n",
            "Requirement already satisfied: scipy>=0.19.0 in /usr/local/lib/python3.6/dist-packages (from category_encoders) (1.3.0)\n",
            "Requirement already satisfied: patsy>=0.4.1 in /usr/local/lib/python3.6/dist-packages (from category_encoders) (0.5.1)\n",
            "Requirement already satisfied: statsmodels>=0.6.1 in /usr/local/lib/python3.6/dist-packages (from category_encoders) (0.10.0)\n",
            "Requirement already satisfied: scikit-learn>=0.20.0 in /usr/local/lib/python3.6/dist-packages (from category_encoders) (0.21.2)\n",
            "Requirement already satisfied: numpy>=1.11.3 in /usr/local/lib/python3.6/dist-packages (from category_encoders) (1.16.4)\n",
            "Requirement already satisfied: tabulate>=0.7.7 in /usr/local/lib/python3.6/dist-packages (from eli5) (0.8.3)\n",
            "Requirement already satisfied: jinja2 in /usr/local/lib/python3.6/dist-packages (from eli5) (2.10.1)\n",
            "Requirement already satisfied: typing in /usr/local/lib/python3.6/dist-packages (from eli5) (3.7.4)\n",
            "Requirement already satisfied: graphviz in /usr/local/lib/python3.6/dist-packages (from eli5) (0.10.1)\n",
            "Requirement already satisfied: attrs>16.0.0 in /usr/local/lib/python3.6/dist-packages (from eli5) (19.1.0)\n",
            "Requirement already satisfied: six in /usr/local/lib/python3.6/dist-packages (from eli5) (1.12.0)\n",
            "Requirement already satisfied: python-dateutil>=2.5.0 in /usr/local/lib/python3.6/dist-packages (from pandas>=0.21.1->category_encoders) (2.5.3)\n",
            "Requirement already satisfied: pytz>=2011k in /usr/local/lib/python3.6/dist-packages (from pandas>=0.21.1->category_encoders) (2018.9)\n",
            "Requirement already satisfied: joblib>=0.11 in /usr/local/lib/python3.6/dist-packages (from scikit-learn>=0.20.0->category_encoders) (0.13.2)\n",
            "Requirement already satisfied: MarkupSafe>=0.23 in /usr/local/lib/python3.6/dist-packages (from jinja2->eli5) (1.1.1)\n"
          ],
          "name": "stdout"
        }
      ]
    },
    {
      "cell_type": "code",
      "metadata": {
        "id": "o6WVV2-WgCEr",
        "colab_type": "code",
        "colab": {}
      },
      "source": [
        "# !unzip /content/{/content}/competitions/champs-scalar-coupling/dipole_moments.csv.zip\n",
        "# !unzip /content/{/content}/competitions/champs-scalar-coupling/structures.csv.zip\n",
        "# !unzip /content/{/content}/competitions/champs-scalar-coupling/scalar_coupling_contributions.csv.zip\n",
        "# !unzip /content/{/content}/competitions/champs-scalar-coupling/magnetic_shielding_tensors.csv.zip\n",
        "# !unzip /content/{/content}/competitions/champs-scalar-coupling/mulliken_charges.csv.zip\n",
        "# !unzip /content/{/content}/competitions/champs-scalar-coupling/potential_energy.csv.zip"
      ],
      "execution_count": 0,
      "outputs": []
    },
    {
      "cell_type": "code",
      "metadata": {
        "id": "wLlOhnqdgEPx",
        "colab_type": "code",
        "colab": {}
      },
      "source": [
        "trainval = pd.read_csv('/content/{/content}/competitions/champs-scalar-coupling/train.csv.zip')\n",
        "test = pd.read_csv('/content/{/content}/competitions/champs-scalar-coupling/test.csv.zip')\n",
        "structures = pd.read_csv('/content/structures.csv')\n",
        "dipole = pd.read_csv('/content/dipole_moments.csv')\n",
        "contrib = pd.read_csv('/content/scalar_coupling_contributions.csv')\n",
        "magnetic = pd.read_csv('/content/magnetic_shielding_tensors.csv')\n",
        "mulliken = pd.read_csv('/content/mulliken_charges.csv')\n",
        "potential_energy = pd.read_csv('/content/potential_energy.csv')\n",
        "test_mulliken = pd.read_csv('/content/mulliken_charges_test_set.csv')"
      ],
      "execution_count": 0,
      "outputs": []
    },
    {
      "cell_type": "markdown",
      "metadata": {
        "id": "eIptifEYgL8g",
        "colab_type": "text"
      },
      "source": [
        "## Merge structures function"
      ]
    },
    {
      "cell_type": "code",
      "metadata": {
        "id": "-smx9y8RgK1_",
        "colab_type": "code",
        "colab": {}
      },
      "source": [
        "def merge_train_structures(train, structures):\n",
        "  \n",
        "  \"\"\"This function is used to merge the structures dataset to the \n",
        "     original train dataset\n",
        "     \n",
        "     Parameters:\n",
        "     ===========\n",
        "\t   train: train dataframe\n",
        "\t   structures: structures dataframe.\n",
        "     \n",
        "     Output:\n",
        "\t   ===========\n",
        "\t   dataframe: merged dataframe\n",
        "     \"\"\"\n",
        "  \n",
        "  structures = structures.rename({'atom_index': 'atom_index_0',\n",
        "                                  'x':'x_0', 'y':'y_0', 'z':'z_0',\n",
        "                                  'atom':'atom_0'}, axis=1)\n",
        "  \n",
        "  merged = pd.merge(train, structures, on=['molecule_name', 'atom_index_0'])\n",
        "  \n",
        "  structures = structures.rename({'atom_index_0': 'atom_index_1',\n",
        "                                  'x_0':'x_1', 'y_0':'y_1', 'z_0':'z_1',\n",
        "                                  'atom_0':'atom_1'}, axis=1)\n",
        "  \n",
        "  merged_1 = pd.merge(merged, structures, on=['molecule_name', 'atom_index_1'])\n",
        "  \n",
        "  structures = structures.rename({'atom_index_1': 'atom_index',\n",
        "                                  'x_1':'x', 'y_1':'y', 'z_1':'z',\n",
        "                                  'atom_1':'atom'}, axis=1)\n",
        "  \n",
        "  assert train.shape[0] == merged.shape[0]\n",
        "  \n",
        "  return merged_1"
      ],
      "execution_count": 0,
      "outputs": []
    },
    {
      "cell_type": "code",
      "metadata": {
        "id": "6T3XeJh8hBaR",
        "colab_type": "code",
        "colab": {}
      },
      "source": [
        "merged = merge_train_structures(trainval, structures)"
      ],
      "execution_count": 0,
      "outputs": []
    },
    {
      "cell_type": "code",
      "metadata": {
        "id": "QVBymDIafsRA",
        "colab_type": "code",
        "colab": {
          "base_uri": "https://localhost:8080/",
          "height": 248
        },
        "outputId": "6a75cc6b-fc9a-4d39-e0d4-c87504b9d6f6"
      },
      "source": [
        "merged.head()"
      ],
      "execution_count": 276,
      "outputs": [
        {
          "output_type": "execute_result",
          "data": {
            "text/html": [
              "<div>\n",
              "<style scoped>\n",
              "    .dataframe tbody tr th:only-of-type {\n",
              "        vertical-align: middle;\n",
              "    }\n",
              "\n",
              "    .dataframe tbody tr th {\n",
              "        vertical-align: top;\n",
              "    }\n",
              "\n",
              "    .dataframe thead th {\n",
              "        text-align: right;\n",
              "    }\n",
              "</style>\n",
              "<table border=\"1\" class=\"dataframe\">\n",
              "  <thead>\n",
              "    <tr style=\"text-align: right;\">\n",
              "      <th></th>\n",
              "      <th>id</th>\n",
              "      <th>molecule_name</th>\n",
              "      <th>atom_index_0</th>\n",
              "      <th>atom_index_1</th>\n",
              "      <th>type</th>\n",
              "      <th>scalar_coupling_constant</th>\n",
              "      <th>atom_0</th>\n",
              "      <th>x_0</th>\n",
              "      <th>y_0</th>\n",
              "      <th>z_0</th>\n",
              "      <th>atom_1</th>\n",
              "      <th>x_1</th>\n",
              "      <th>y_1</th>\n",
              "      <th>z_1</th>\n",
              "    </tr>\n",
              "  </thead>\n",
              "  <tbody>\n",
              "    <tr>\n",
              "      <th>0</th>\n",
              "      <td>0</td>\n",
              "      <td>dsgdb9nsd_000001</td>\n",
              "      <td>1</td>\n",
              "      <td>0</td>\n",
              "      <td>1JHC</td>\n",
              "      <td>84.8076</td>\n",
              "      <td>H</td>\n",
              "      <td>0.002150</td>\n",
              "      <td>-0.006031</td>\n",
              "      <td>0.001976</td>\n",
              "      <td>C</td>\n",
              "      <td>-0.012698</td>\n",
              "      <td>1.085804</td>\n",
              "      <td>0.008001</td>\n",
              "    </tr>\n",
              "    <tr>\n",
              "      <th>1</th>\n",
              "      <td>4</td>\n",
              "      <td>dsgdb9nsd_000001</td>\n",
              "      <td>2</td>\n",
              "      <td>0</td>\n",
              "      <td>1JHC</td>\n",
              "      <td>84.8074</td>\n",
              "      <td>H</td>\n",
              "      <td>1.011731</td>\n",
              "      <td>1.463751</td>\n",
              "      <td>0.000277</td>\n",
              "      <td>C</td>\n",
              "      <td>-0.012698</td>\n",
              "      <td>1.085804</td>\n",
              "      <td>0.008001</td>\n",
              "    </tr>\n",
              "    <tr>\n",
              "      <th>2</th>\n",
              "      <td>7</td>\n",
              "      <td>dsgdb9nsd_000001</td>\n",
              "      <td>3</td>\n",
              "      <td>0</td>\n",
              "      <td>1JHC</td>\n",
              "      <td>84.8093</td>\n",
              "      <td>H</td>\n",
              "      <td>-0.540815</td>\n",
              "      <td>1.447527</td>\n",
              "      <td>-0.876644</td>\n",
              "      <td>C</td>\n",
              "      <td>-0.012698</td>\n",
              "      <td>1.085804</td>\n",
              "      <td>0.008001</td>\n",
              "    </tr>\n",
              "    <tr>\n",
              "      <th>3</th>\n",
              "      <td>9</td>\n",
              "      <td>dsgdb9nsd_000001</td>\n",
              "      <td>4</td>\n",
              "      <td>0</td>\n",
              "      <td>1JHC</td>\n",
              "      <td>84.8095</td>\n",
              "      <td>H</td>\n",
              "      <td>-0.523814</td>\n",
              "      <td>1.437933</td>\n",
              "      <td>0.906397</td>\n",
              "      <td>C</td>\n",
              "      <td>-0.012698</td>\n",
              "      <td>1.085804</td>\n",
              "      <td>0.008001</td>\n",
              "    </tr>\n",
              "    <tr>\n",
              "      <th>4</th>\n",
              "      <td>1</td>\n",
              "      <td>dsgdb9nsd_000001</td>\n",
              "      <td>1</td>\n",
              "      <td>2</td>\n",
              "      <td>2JHH</td>\n",
              "      <td>-11.2570</td>\n",
              "      <td>H</td>\n",
              "      <td>0.002150</td>\n",
              "      <td>-0.006031</td>\n",
              "      <td>0.001976</td>\n",
              "      <td>H</td>\n",
              "      <td>1.011731</td>\n",
              "      <td>1.463751</td>\n",
              "      <td>0.000277</td>\n",
              "    </tr>\n",
              "  </tbody>\n",
              "</table>\n",
              "</div>"
            ],
            "text/plain": [
              "   id     molecule_name  atom_index_0  ...       x_1       y_1       z_1\n",
              "0   0  dsgdb9nsd_000001             1  ... -0.012698  1.085804  0.008001\n",
              "1   4  dsgdb9nsd_000001             2  ... -0.012698  1.085804  0.008001\n",
              "2   7  dsgdb9nsd_000001             3  ... -0.012698  1.085804  0.008001\n",
              "3   9  dsgdb9nsd_000001             4  ... -0.012698  1.085804  0.008001\n",
              "4   1  dsgdb9nsd_000001             1  ...  1.011731  1.463751  0.000277\n",
              "\n",
              "[5 rows x 14 columns]"
            ]
          },
          "metadata": {
            "tags": []
          },
          "execution_count": 276
        }
      ]
    },
    {
      "cell_type": "code",
      "metadata": {
        "id": "HwP1L6VOftsL",
        "colab_type": "code",
        "colab": {}
      },
      "source": [
        "mulliken = mulliken.rename({'atom_index': 'atom_index_0',\n",
        "                          'mulliken_charge': 'mulliken_charge_0'}, axis=1)\n",
        "merged = merged.merge(mulliken, on=['molecule_name', 'atom_index_0'])\n",
        "\n",
        "mulliken = mulliken.rename({'atom_index_0': 'atom_index_1',\n",
        "                          'mulliken_charge_0': 'mulliken_charge_1'}, axis=1)\n",
        "merged = merged.merge(mulliken, on=['molecule_name', 'atom_index_1'])"
      ],
      "execution_count": 0,
      "outputs": []
    },
    {
      "cell_type": "markdown",
      "metadata": {
        "id": "Fs3aX9ilhMel",
        "colab_type": "text"
      },
      "source": [
        "## Feature Engineering"
      ]
    },
    {
      "cell_type": "code",
      "metadata": {
        "id": "h6efY7swhI98",
        "colab_type": "code",
        "colab": {}
      },
      "source": [
        "external_data_0 = pd.DataFrame(data={\n",
        "    'atom_0': ['C', 'H', 'N', 'O', 'F'],\n",
        "    'atom_0_en': [2.55, 2.20, 3.04, 3.44, 3.98],\n",
        "    'atomic_mass_0': [12.0107, 1.00784, 14.0067, 15.999, 18.9984],\n",
        "    'valence_electrons_0': [4, 1, 5, 6, 7]\n",
        "})\n",
        "external_data_1 = pd.DataFrame(data={\n",
        "    'atom_1': ['C', 'H', 'N', 'O', 'F'],\n",
        "    'atom_1_en': [2.55, 2.20, 3.04, 3.44, 3.98],\n",
        "    'atomic_mass_1': [12.0107, 1.00784, 14.0067, 15.999, 18.9984],\n",
        "    'valence_electrons_1': [4, 1, 5, 6, 7]\n",
        "})"
      ],
      "execution_count": 0,
      "outputs": []
    },
    {
      "cell_type": "code",
      "metadata": {
        "id": "qYiUXtJBh2Xk",
        "colab_type": "code",
        "colab": {}
      },
      "source": [
        "def feature_eng(df):\n",
        "  df['bond'] = df['type'].str[2:]\n",
        "  df['j_type'] = df['type'].str[:2]\n",
        "  df['distance'] = ((df['x_1'].values - df['x_0'].values)**2 + \n",
        "                  (df['y_1'].values - df['y_0'].values)**2 + \n",
        "                  (df['z_1'].values - df['z_0'].values)**2)** 0.5\n",
        "  df['mu_0'] = np.sqrt(df['x_0'].values**2 + df['y_0'].values**2 + df['z_0'].values**2)\n",
        "  df['mu_1'] = np.sqrt(df['x_1'].values**2 + df['y_1'].values**2 + df['z_1'].values**2)\n",
        "  df = df.merge(external_data_0, on='atom_0', how='left')\n",
        "  df = df.merge(external_data_1, on='atom_1', how='left')\n",
        "  df['delta_en'] = (df['atom_0_en'] - df['atom_1_en']).abs()\n",
        "#   df = df.drop(['x_0', 'y_0', 'z_0', 'x_1', 'y_1', 'z_1'], axis=1)\n",
        "  return df"
      ],
      "execution_count": 0,
      "outputs": []
    },
    {
      "cell_type": "code",
      "metadata": {
        "id": "2BQobxTxh8o8",
        "colab_type": "code",
        "colab": {}
      },
      "source": [
        "merged = feature_eng(merged)"
      ],
      "execution_count": 0,
      "outputs": []
    },
    {
      "cell_type": "markdown",
      "metadata": {
        "id": "ayAP9oSm-ZMz",
        "colab_type": "text"
      },
      "source": [
        "## Scoring Function"
      ]
    },
    {
      "cell_type": "code",
      "metadata": {
        "id": "hZoxi1Hb-dxU",
        "colab_type": "code",
        "colab": {}
      },
      "source": [
        "groups = merged['type']\n",
        "\n",
        "def group_lmae(y_true, y_pred, groups, floor=1e-9):\n",
        "  maes = (y_true - y_pred).abs().groupby(groups).mean()\n",
        "  return np.log(maes.map(lambda x: max(x, floor))).mean()"
      ],
      "execution_count": 0,
      "outputs": []
    },
    {
      "cell_type": "markdown",
      "metadata": {
        "id": "k_yv7MwoiFlB",
        "colab_type": "text"
      },
      "source": [
        "## Splitting"
      ]
    },
    {
      "cell_type": "code",
      "metadata": {
        "id": "T1nu0aKKiAli",
        "colab_type": "code",
        "colab": {}
      },
      "source": [
        "trainval_1JHC = merged[merged['type'] == '1JHC']\n",
        "trainval_1JHN = merged[merged['type'] == '1JHN']\n",
        "trainval_2JHH = merged[merged['type'] == '2JHH']\n",
        "trainval_2JHN = merged[merged['type'] == '2JHN']\n",
        "trainval_2JHC = merged[merged['type'] == '2JHC']\n",
        "trainval_3JHH = merged[merged['type'] == '3JHH']\n",
        "trainval_3JHC = merged[merged['type'] == '3JHC']\n",
        "trainval_3JHN = merged[merged['type'] == '3JHN']"
      ],
      "execution_count": 0,
      "outputs": []
    },
    {
      "cell_type": "code",
      "metadata": {
        "id": "CtdzPsLliJXB",
        "colab_type": "code",
        "colab": {}
      },
      "source": [
        "train_1JHC, val_1JHC = train_test_split(trainval_1JHC, shuffle=False, random_state=47)\n",
        "\n",
        "train_1JHC_molecules = train_1JHC['molecule_name'].unique()\n",
        "val_1JHC_molecules = np.delete(val_1JHC['molecule_name'].unique(), 0)\n",
        "\n",
        "train_1JHC = train_1JHC[train_1JHC['molecule_name'].isin(train_1JHC_molecules)]\n",
        "val_1JHC = val_1JHC[val_1JHC['molecule_name'].isin(val_1JHC_molecules)]"
      ],
      "execution_count": 0,
      "outputs": []
    },
    {
      "cell_type": "code",
      "metadata": {
        "id": "ZurZs9P_LcmB",
        "colab_type": "code",
        "colab": {}
      },
      "source": [
        "train_1JHN, val_1JHN = train_test_split(trainval_1JHN, shuffle=False, random_state=47)\n",
        "\n",
        "train_1JHN_molecules = train_1JHN['molecule_name'].unique()\n",
        "val_1JHN_molecules = np.delete(val_1JHN['molecule_name'].unique(), 0)\n",
        "\n",
        "train_1JHN = train_1JHN[train_1JHN['molecule_name'].isin(train_1JHN_molecules)]\n",
        "val_1JHN = val_1JHN[val_1JHN['molecule_name'].isin(val_1JHN_molecules)]"
      ],
      "execution_count": 0,
      "outputs": []
    },
    {
      "cell_type": "code",
      "metadata": {
        "id": "67IURpYCMHa7",
        "colab_type": "code",
        "colab": {}
      },
      "source": [
        "train_2JHH, val_2JHH = train_test_split(trainval_2JHH, shuffle=False, random_state=47)\n",
        "\n",
        "train_2JHH_molecules = train_2JHH['molecule_name'].unique()\n",
        "val_2JHH_molecules = np.delete(val_2JHH['molecule_name'].unique(), 0)\n",
        "\n",
        "train_2JHH = train_2JHH[train_2JHH['molecule_name'].isin(train_2JHH_molecules)]\n",
        "val_2JHH = val_2JHH[val_2JHH['molecule_name'].isin(val_2JHH_molecules)]"
      ],
      "execution_count": 0,
      "outputs": []
    },
    {
      "cell_type": "code",
      "metadata": {
        "id": "cP5eaavuMiah",
        "colab_type": "code",
        "colab": {}
      },
      "source": [
        "train_2JHN, val_2JHN = train_test_split(trainval_2JHN, shuffle=False, random_state=47)\n",
        "\n",
        "train_2JHN_molecules = train_2JHN['molecule_name'].unique()\n",
        "val_2JHN_molecules = np.delete(val_2JHN['molecule_name'].unique(), 0)\n",
        "\n",
        "train_2JHN = train_2JHN[train_2JHN['molecule_name'].isin(train_2JHN_molecules)]\n",
        "val_2JHN = val_2JHN[val_2JHN['molecule_name'].isin(val_2JHN_molecules)]"
      ],
      "execution_count": 0,
      "outputs": []
    },
    {
      "cell_type": "code",
      "metadata": {
        "id": "593GxrUJMzHy",
        "colab_type": "code",
        "colab": {}
      },
      "source": [
        "train_2JHC, val_2JHC = train_test_split(trainval_2JHC, shuffle=False, random_state=47)\n",
        "\n",
        "train_2JHC_molecules = train_2JHC['molecule_name'].unique()\n",
        "val_2JHC_molecules = np.delete(val_2JHC['molecule_name'].unique(), 0)\n",
        "\n",
        "train_2JHC = train_2JHC[train_2JHC['molecule_name'].isin(train_2JHC_molecules)]\n",
        "val_2JHC = val_2JHC[val_2JHC['molecule_name'].isin(val_2JHC_molecules)]"
      ],
      "execution_count": 0,
      "outputs": []
    },
    {
      "cell_type": "code",
      "metadata": {
        "id": "RANf2FaGNB39",
        "colab_type": "code",
        "colab": {}
      },
      "source": [
        "train_3JHH, val_3JHH = train_test_split(trainval_3JHH, shuffle=False, random_state=47)\n",
        "\n",
        "train_3JHH_molecules = train_3JHH['molecule_name'].unique()\n",
        "val_3JHH_molecules = np.delete(val_3JHH['molecule_name'].unique(), 0)\n",
        "\n",
        "train_3JHH = train_3JHH[train_3JHH['molecule_name'].isin(train_3JHH_molecules)]\n",
        "val_3JHH = val_3JHH[val_3JHH['molecule_name'].isin(val_3JHH_molecules)]"
      ],
      "execution_count": 0,
      "outputs": []
    },
    {
      "cell_type": "code",
      "metadata": {
        "id": "f-cjQOwDNSXJ",
        "colab_type": "code",
        "colab": {}
      },
      "source": [
        "train_3JHC, val_3JHC = train_test_split(trainval_3JHC, shuffle=False, random_state=47)\n",
        "\n",
        "train_3JHC_molecules = train_3JHC['molecule_name'].unique()\n",
        "val_3JHC_molecules = np.delete(val_3JHC['molecule_name'].unique(), 0)\n",
        "\n",
        "train_3JHC = train_3JHC[train_3JHC['molecule_name'].isin(train_3JHC_molecules)]\n",
        "val_3JHC = val_3JHC[val_3JHC['molecule_name'].isin(val_3JHC_molecules)]"
      ],
      "execution_count": 0,
      "outputs": []
    },
    {
      "cell_type": "code",
      "metadata": {
        "id": "PcRaosKCNgtO",
        "colab_type": "code",
        "colab": {}
      },
      "source": [
        "train_3JHN, val_3JHN = train_test_split(trainval_3JHN, shuffle=False, random_state=47)\n",
        "\n",
        "train_3JHN_molecules = train_3JHN['molecule_name'].unique()\n",
        "val_3JHN_molecules = np.delete(val_3JHN['molecule_name'].unique(), 0)\n",
        "\n",
        "train_3JHN = train_3JHN[train_3JHN['molecule_name'].isin(train_3JHN_molecules)]\n",
        "val_3JHN = val_3JHN[val_3JHN['molecule_name'].isin(val_3JHN_molecules)]"
      ],
      "execution_count": 0,
      "outputs": []
    },
    {
      "cell_type": "markdown",
      "metadata": {
        "id": "WwDNxiWvqLYJ",
        "colab_type": "text"
      },
      "source": [
        "## X_train, y_train, X_val, y_val"
      ]
    },
    {
      "cell_type": "code",
      "metadata": {
        "id": "X2I1HBvGkr-9",
        "colab_type": "code",
        "colab": {}
      },
      "source": [
        "features = ['atom_index_0', 'atom_index_1', 'distance', 'atom_0_en',\n",
        "            'atom_1_en', 'mu_0', 'mu_1', 'mulliken_charge_0',\n",
        "            'mulliken_charge_1', 'x_0', 'x_1', 'y_0', 'y_1', 'z_0', 'z_1']\n",
        "target = 'scalar_coupling_constant'\n",
        "\n",
        "X_train_1JHC = train_1JHC[features]\n",
        "X_train_1JHN = train_1JHN[features]\n",
        "X_train_2JHH = train_2JHH[features]\n",
        "X_train_2JHN = train_2JHN[features]\n",
        "X_train_2JHC = train_2JHC[features]\n",
        "X_train_3JHH = train_3JHH[features]\n",
        "X_train_3JHC = train_3JHC[features]\n",
        "X_train_3JHN = train_3JHN[features]\n",
        "\n",
        "y_train_1JHC = train_1JHC[target]\n",
        "y_train_1JHN = train_1JHN[target]\n",
        "y_train_2JHH = train_2JHH[target]\n",
        "y_train_2JHN = train_2JHN[target]\n",
        "y_train_2JHC = train_2JHC[target]\n",
        "y_train_3JHH = train_3JHH[target]\n",
        "y_train_3JHC = train_3JHC[target]\n",
        "y_train_3JHN = train_3JHN[target]\n",
        "\n",
        "\n",
        "X_val_1JHC = val_1JHC[features]\n",
        "X_val_1JHN = val_1JHN[features]\n",
        "X_val_2JHH = val_2JHH[features]\n",
        "X_val_2JHN = val_2JHN[features]\n",
        "X_val_2JHC = val_2JHC[features]\n",
        "X_val_3JHH = val_3JHH[features]\n",
        "X_val_3JHC = val_3JHC[features]\n",
        "X_val_3JHN = val_3JHN[features]\n",
        "\n",
        "y_val_1JHC = val_1JHC[target]\n",
        "y_val_1JHN = val_1JHN[target]\n",
        "y_val_2JHH = val_2JHH[target]\n",
        "y_val_2JHN = val_2JHN[target]\n",
        "y_val_2JHC = val_2JHC[target]\n",
        "y_val_3JHH = val_3JHH[target]\n",
        "y_val_3JHC = val_3JHC[target]\n",
        "y_val_3JHN = val_3JHN[target]"
      ],
      "execution_count": 0,
      "outputs": []
    },
    {
      "cell_type": "markdown",
      "metadata": {
        "id": "szMVdvyUqTnz",
        "colab_type": "text"
      },
      "source": [
        "## Encoding"
      ]
    },
    {
      "cell_type": "code",
      "metadata": {
        "id": "lesNwTUymIuQ",
        "colab_type": "code",
        "colab": {}
      },
      "source": [
        "def encode(df):\n",
        "  df = OrdinalEncoder.fit_transform(OrdinalEncoder(df), df)\n",
        "  return df"
      ],
      "execution_count": 0,
      "outputs": []
    },
    {
      "cell_type": "code",
      "metadata": {
        "id": "AE9hTCY2mJla",
        "colab_type": "code",
        "colab": {}
      },
      "source": [
        "X_train_1JHC_encoded = encode(X_train_1JHC)\n",
        "X_train_1JHN_encoded = encode(X_train_1JHN)\n",
        "X_train_2JHH_encoded = encode(X_train_2JHH)\n",
        "X_train_2JHC_encoded = encode(X_train_2JHC)\n",
        "X_train_2JHN_encoded = encode(X_train_2JHN)\n",
        "X_train_3JHH_encoded = encode(X_train_3JHH)\n",
        "X_train_3JHC_encoded = encode(X_train_3JHC)\n",
        "X_train_3JHN_encoded = encode(X_train_3JHN)\n",
        "\n",
        "X_val_1JHC_encoded = encode(X_val_1JHC)\n",
        "X_val_1JHN_encoded = encode(X_val_1JHN)\n",
        "X_val_2JHH_encoded = encode(X_val_2JHH)\n",
        "X_val_2JHN_encoded = encode(X_val_2JHN)\n",
        "X_val_2JHC_encoded = encode(X_val_2JHC)\n",
        "X_val_3JHH_encoded = encode(X_val_3JHH)\n",
        "X_val_3JHC_encoded = encode(X_val_3JHC)\n",
        "X_val_3JHN_encoded = encode(X_val_3JHN)"
      ],
      "execution_count": 0,
      "outputs": []
    },
    {
      "cell_type": "markdown",
      "metadata": {
        "id": "Yhv9Kyu8qfyd",
        "colab_type": "text"
      },
      "source": [
        "## 1JHC LightGBM"
      ]
    },
    {
      "cell_type": "code",
      "metadata": {
        "id": "D4pTnyDGRPo4",
        "colab_type": "code",
        "outputId": "2a47f05c-cf63-4e1d-ba8e-5f7910d84906",
        "colab": {
          "base_uri": "https://localhost:8080/",
          "height": 108
        }
      },
      "source": [
        "%%time\n",
        "lgtrain_1JHC = lightgbm.Dataset(X_train_1JHC_encoded, label=y_train_1JHC)\n",
        "\n",
        "params = {\n",
        "    'objective': 'regression',\n",
        "    'metric':'mae',\n",
        "    'boosting':'gbdt',\n",
        "    'n_estimators': 500\n",
        "}\n",
        "\n",
        "model_lgb_1JHC = lightgbm.train(params, lgtrain_1JHC)\n",
        "\n",
        "y_pred_1JHC = model_lgb_1JHC.predict(X_val_1JHC_encoded)\n",
        "\n",
        "pred_vs_actual_1JHC = pd.DataFrame(data={\n",
        "    'predictions': y_pred_1JHC,\n",
        "    'actual': y_val_1JHC\n",
        "})\n",
        "\n",
        "pred_vs_actual_1JHC.head()"
      ],
      "execution_count": 294,
      "outputs": [
        {
          "output_type": "stream",
          "text": [
            "/usr/local/lib/python3.6/dist-packages/lightgbm/engine.py:118: UserWarning: Found `n_estimators` in params. Will use it instead of argument\n",
            "  warnings.warn(\"Found `{}` in params. Will use it instead of argument\".format(alias))\n"
          ],
          "name": "stderr"
        },
        {
          "output_type": "stream",
          "text": [
            "CPU times: user 36.8 s, sys: 176 ms, total: 37 s\n",
            "Wall time: 9.55 s\n"
          ],
          "name": "stdout"
        }
      ]
    },
    {
      "cell_type": "markdown",
      "metadata": {
        "id": "cMRZ7dlfR45P",
        "colab_type": "text"
      },
      "source": [
        "## 2JHH LightGBM"
      ]
    },
    {
      "cell_type": "code",
      "metadata": {
        "id": "pslnfAslR6oy",
        "colab_type": "code",
        "outputId": "2b099b25-8aad-46d0-a5bc-7d2fffb6e794",
        "colab": {
          "base_uri": "https://localhost:8080/",
          "height": 108
        }
      },
      "source": [
        "%%time\n",
        "lgtrain_2JHH = lightgbm.Dataset(X_train_2JHH_encoded, label=y_train_2JHH)\n",
        "\n",
        "params = {\n",
        "    'objective': 'regression',\n",
        "    'metric':'mae',\n",
        "    'boosting':'gbdt',\n",
        "    'n_estimators': 500\n",
        "}\n",
        "\n",
        "model_lgb_2JHH = lightgbm.train(params, lgtrain_2JHH)\n",
        "\n",
        "y_pred_2JHH = model_lgb_2JHH.predict(X_val_2JHH_encoded)\n",
        "\n",
        "pred_vs_actual_2JHH = pd.DataFrame(data={\n",
        "    'predictions': y_pred_2JHH,\n",
        "    'actual': y_val_2JHH\n",
        "})\n",
        "\n",
        "pred_vs_actual_2JHH.head()"
      ],
      "execution_count": 295,
      "outputs": [
        {
          "output_type": "stream",
          "text": [
            "/usr/local/lib/python3.6/dist-packages/lightgbm/engine.py:118: UserWarning: Found `n_estimators` in params. Will use it instead of argument\n",
            "  warnings.warn(\"Found `{}` in params. Will use it instead of argument\".format(alias))\n"
          ],
          "name": "stderr"
        },
        {
          "output_type": "stream",
          "text": [
            "CPU times: user 20 s, sys: 146 ms, total: 20.1 s\n",
            "Wall time: 5.25 s\n"
          ],
          "name": "stdout"
        }
      ]
    },
    {
      "cell_type": "markdown",
      "metadata": {
        "id": "f24zDLezRURu",
        "colab_type": "text"
      },
      "source": [
        "## 1JHN LightGBM"
      ]
    },
    {
      "cell_type": "code",
      "metadata": {
        "id": "EroDI2IgRY7X",
        "colab_type": "code",
        "outputId": "b6cb7730-abcf-4ff8-9aca-f9fbb100f783",
        "colab": {
          "base_uri": "https://localhost:8080/",
          "height": 108
        }
      },
      "source": [
        "%%time\n",
        "lgtrain_1JHN = lightgbm.Dataset(X_train_1JHN_encoded, label=y_train_1JHN)\n",
        "\n",
        "params = {\n",
        "    'objective': 'regression',\n",
        "    'metric':'mae',\n",
        "    'boosting':'gbdt',\n",
        "    'n_estimators': 500\n",
        "}\n",
        "\n",
        "model_lgb_1JHN = lightgbm.train(params, lgtrain_1JHN)\n",
        "\n",
        "y_pred_1JHN = model_lgb_1JHN.predict(X_val_1JHN_encoded)\n",
        "\n",
        "pred_vs_actual_1JHN = pd.DataFrame(data={\n",
        "    'predictions': y_pred_1JHN,\n",
        "    'actual': y_val_1JHN\n",
        "})\n",
        "\n",
        "pred_vs_actual_1JHN.head()"
      ],
      "execution_count": 296,
      "outputs": [
        {
          "output_type": "stream",
          "text": [
            "/usr/local/lib/python3.6/dist-packages/lightgbm/engine.py:118: UserWarning: Found `n_estimators` in params. Will use it instead of argument\n",
            "  warnings.warn(\"Found `{}` in params. Will use it instead of argument\".format(alias))\n"
          ],
          "name": "stderr"
        },
        {
          "output_type": "stream",
          "text": [
            "CPU times: user 5.12 s, sys: 109 ms, total: 5.23 s\n",
            "Wall time: 1.35 s\n"
          ],
          "name": "stdout"
        }
      ]
    },
    {
      "cell_type": "markdown",
      "metadata": {
        "id": "n4gcTl_hRdCT",
        "colab_type": "text"
      },
      "source": [
        "## 2JHC LightGBM"
      ]
    },
    {
      "cell_type": "code",
      "metadata": {
        "id": "AxkzyuLsRm77",
        "colab_type": "code",
        "outputId": "329fe8c8-a6d7-4b37-b014-22b40ce7cdb4",
        "colab": {
          "base_uri": "https://localhost:8080/",
          "height": 108
        }
      },
      "source": [
        "%%time\n",
        "lgtrain_2JHC = lightgbm.Dataset(X_train_2JHC_encoded, label=y_train_2JHC)\n",
        "\n",
        "params = {\n",
        "    'objective': 'regression',\n",
        "    'metric':'mae',\n",
        "    'boosting':'gbdt',\n",
        "    'n_estimators': 500\n",
        "}\n",
        "\n",
        "model_lgb_2JHC = lightgbm.train(params, lgtrain_2JHC)\n",
        "\n",
        "y_pred_2JHC = model_lgb_2JHC.predict(X_val_2JHC_encoded)\n",
        "\n",
        "pred_vs_actual_2JHC = pd.DataFrame(data={\n",
        "    'predictions': y_pred_2JHC,\n",
        "    'actual': y_val_2JHC\n",
        "})\n",
        "\n",
        "pred_vs_actual_2JHC.head()"
      ],
      "execution_count": 297,
      "outputs": [
        {
          "output_type": "stream",
          "text": [
            "/usr/local/lib/python3.6/dist-packages/lightgbm/engine.py:118: UserWarning: Found `n_estimators` in params. Will use it instead of argument\n",
            "  warnings.warn(\"Found `{}` in params. Will use it instead of argument\".format(alias))\n"
          ],
          "name": "stderr"
        },
        {
          "output_type": "stream",
          "text": [
            "CPU times: user 55.4 s, sys: 195 ms, total: 55.6 s\n",
            "Wall time: 14.3 s\n"
          ],
          "name": "stdout"
        }
      ]
    },
    {
      "cell_type": "markdown",
      "metadata": {
        "id": "-WpzkhYjPZ_c",
        "colab_type": "text"
      },
      "source": [
        "## 2JHN LightGBM"
      ]
    },
    {
      "cell_type": "code",
      "metadata": {
        "id": "ujziZZ_vPYgJ",
        "colab_type": "code",
        "outputId": "70e8e836-624b-4090-dd32-7f8d68eca6fb",
        "colab": {
          "base_uri": "https://localhost:8080/",
          "height": 108
        }
      },
      "source": [
        "%%time\n",
        "lgtrain_2JHN = lightgbm.Dataset(X_train_2JHN_encoded, label=y_train_2JHN)\n",
        "\n",
        "params = {\n",
        "    'objective': 'regression',\n",
        "    'metric':'mae',\n",
        "    'boosting':'gbdt',\n",
        "    'n_estimators': 500\n",
        "}\n",
        "\n",
        "model_lgb_2JHN = lightgbm.train(params, lgtrain_2JHN)\n",
        "\n",
        "y_pred_2JHN = model_lgb_2JHN.predict(X_val_2JHN_encoded)\n",
        "\n",
        "pred_vs_actual_2JHN = pd.DataFrame(data={\n",
        "    'predictions': y_pred_2JHN,\n",
        "    'actual': y_val_2JHN\n",
        "})\n",
        "\n",
        "pred_vs_actual_2JHN.head()"
      ],
      "execution_count": 298,
      "outputs": [
        {
          "output_type": "stream",
          "text": [
            "/usr/local/lib/python3.6/dist-packages/lightgbm/engine.py:118: UserWarning: Found `n_estimators` in params. Will use it instead of argument\n",
            "  warnings.warn(\"Found `{}` in params. Will use it instead of argument\".format(alias))\n"
          ],
          "name": "stderr"
        },
        {
          "output_type": "stream",
          "text": [
            "CPU times: user 8.85 s, sys: 121 ms, total: 8.97 s\n",
            "Wall time: 2.32 s\n"
          ],
          "name": "stdout"
        }
      ]
    },
    {
      "cell_type": "markdown",
      "metadata": {
        "id": "cOK7n_zzQFXH",
        "colab_type": "text"
      },
      "source": [
        "## 3JHH LightGBM"
      ]
    },
    {
      "cell_type": "code",
      "metadata": {
        "id": "4ZHD5MLlQUoK",
        "colab_type": "code",
        "outputId": "7abb8576-c13e-464c-d060-ca08cb9ab923",
        "colab": {
          "base_uri": "https://localhost:8080/",
          "height": 108
        }
      },
      "source": [
        "%%time\n",
        "lgtrain_3JHH = lightgbm.Dataset(X_train_3JHH_encoded, label=y_train_3JHH)\n",
        "\n",
        "params = {\n",
        "    'objective': 'regression',\n",
        "    'metric':'mae',\n",
        "    'boosting':'gbdt',\n",
        "    'n_estimators': 500\n",
        "}\n",
        "\n",
        "model_lgb_3JHH = lightgbm.train(params, lgtrain_3JHH)\n",
        "\n",
        "y_pred_3JHH = model_lgb_3JHH.predict(X_val_3JHH_encoded)\n",
        "\n",
        "pred_vs_actual_3JHH = pd.DataFrame(data={\n",
        "    'predictions': y_pred_3JHH,\n",
        "    'actual': y_val_3JHH\n",
        "})\n",
        "\n",
        "pred_vs_actual_3JHH.head()"
      ],
      "execution_count": 299,
      "outputs": [
        {
          "output_type": "stream",
          "text": [
            "/usr/local/lib/python3.6/dist-packages/lightgbm/engine.py:118: UserWarning: Found `n_estimators` in params. Will use it instead of argument\n",
            "  warnings.warn(\"Found `{}` in params. Will use it instead of argument\".format(alias))\n"
          ],
          "name": "stderr"
        },
        {
          "output_type": "stream",
          "text": [
            "CPU times: user 29.7 s, sys: 179 ms, total: 29.9 s\n",
            "Wall time: 7.73 s\n"
          ],
          "name": "stdout"
        }
      ]
    },
    {
      "cell_type": "markdown",
      "metadata": {
        "id": "k5Au3qaEQc7O",
        "colab_type": "text"
      },
      "source": [
        "## 3JHC LightGBM"
      ]
    },
    {
      "cell_type": "code",
      "metadata": {
        "id": "_5yyZbUaQf_J",
        "colab_type": "code",
        "outputId": "80d110ff-2098-49be-f520-3e6f51d605fc",
        "colab": {
          "base_uri": "https://localhost:8080/",
          "height": 108
        }
      },
      "source": [
        "%%time\n",
        "lgtrain_3JHC = lightgbm.Dataset(X_train_3JHC_encoded, label=y_train_3JHC)\n",
        "\n",
        "params = {\n",
        "    'objective': 'regression',\n",
        "    'metric':'mae',\n",
        "    'boosting':'gbdt',\n",
        "    'n_estimators': 500\n",
        "}\n",
        "\n",
        "model_lgb_3JHC = lightgbm.train(params, lgtrain_3JHC)\n",
        "\n",
        "y_pred_3JHC = model_lgb_3JHC.predict(X_val_3JHC_encoded)\n",
        "\n",
        "pred_vs_actual_3JHC = pd.DataFrame(data={\n",
        "    'predictions': y_pred_3JHC,\n",
        "    'actual': y_val_3JHC\n",
        "})\n",
        "\n",
        "pred_vs_actual_3JHC.head()"
      ],
      "execution_count": 300,
      "outputs": [
        {
          "output_type": "stream",
          "text": [
            "/usr/local/lib/python3.6/dist-packages/lightgbm/engine.py:118: UserWarning: Found `n_estimators` in params. Will use it instead of argument\n",
            "  warnings.warn(\"Found `{}` in params. Will use it instead of argument\".format(alias))\n"
          ],
          "name": "stderr"
        },
        {
          "output_type": "stream",
          "text": [
            "CPU times: user 1min 15s, sys: 229 ms, total: 1min 15s\n",
            "Wall time: 19.5 s\n"
          ],
          "name": "stdout"
        }
      ]
    },
    {
      "cell_type": "markdown",
      "metadata": {
        "id": "t-Cy3VkLQphe",
        "colab_type": "text"
      },
      "source": [
        "## 3JHN LightGBM"
      ]
    },
    {
      "cell_type": "code",
      "metadata": {
        "id": "G2TCKCJ9Qo8D",
        "colab_type": "code",
        "outputId": "3e9793de-6c5f-4fa1-ddee-e2e11c164750",
        "colab": {
          "base_uri": "https://localhost:8080/",
          "height": 108
        }
      },
      "source": [
        "%%time\n",
        "lgtrain_3JHN = lightgbm.Dataset(X_train_3JHN_encoded, label=y_train_3JHN)\n",
        "\n",
        "params = {\n",
        "    'objective': 'regression',\n",
        "    'metric':'mae',\n",
        "    'boosting':'gbdt',\n",
        "    'n_estimators': 500\n",
        "}\n",
        "\n",
        "model_lgb_3JHN = lightgbm.train(params, lgtrain_3JHN)\n",
        "\n",
        "y_pred_3JHN = model_lgb_3JHN.predict(X_val_3JHN_encoded)\n",
        "\n",
        "pred_vs_actual_3JHN = pd.DataFrame(data={\n",
        "    'predictions': y_pred_3JHN,\n",
        "    'actual': y_val_3JHN\n",
        "})\n",
        "\n",
        "pred_vs_actual_3JHN.head()"
      ],
      "execution_count": 301,
      "outputs": [
        {
          "output_type": "stream",
          "text": [
            "/usr/local/lib/python3.6/dist-packages/lightgbm/engine.py:118: UserWarning: Found `n_estimators` in params. Will use it instead of argument\n",
            "  warnings.warn(\"Found `{}` in params. Will use it instead of argument\".format(alias))\n"
          ],
          "name": "stderr"
        },
        {
          "output_type": "stream",
          "text": [
            "CPU times: user 10.9 s, sys: 120 ms, total: 11.1 s\n",
            "Wall time: 2.88 s\n"
          ],
          "name": "stdout"
        }
      ]
    },
    {
      "cell_type": "markdown",
      "metadata": {
        "id": "tytFv2ZK6Yiv",
        "colab_type": "text"
      },
      "source": [
        "## Combine train/validate"
      ]
    },
    {
      "cell_type": "code",
      "metadata": {
        "id": "DZLCYT1r8OT6",
        "colab_type": "code",
        "colab": {}
      },
      "source": [
        "val_1JHC['preds'] = y_pred_1JHC\n",
        "val_1JHN['preds'] = y_pred_1JHN\n",
        "val_2JHH['preds'] = y_pred_2JHH\n",
        "val_2JHN['preds'] = y_pred_2JHN\n",
        "val_2JHC['preds'] = y_pred_2JHC\n",
        "val_3JHH['preds'] = y_pred_3JHH\n",
        "val_3JHC['preds'] = y_pred_3JHC\n",
        "val_3JHN['preds'] = y_pred_3JHN\n"
      ],
      "execution_count": 0,
      "outputs": []
    },
    {
      "cell_type": "code",
      "metadata": {
        "id": "uZSBeHZ46diR",
        "colab_type": "code",
        "colab": {}
      },
      "source": [
        "val_final = pd.concat([val_1JHC, val_1JHN, val_2JHH,\n",
        "                       val_2JHN, val_2JHC, val_3JHH,\n",
        "                       val_3JHC, val_3JHN])\n",
        "\n",
        "val_final = val_final.sort_values(by=['id'])"
      ],
      "execution_count": 0,
      "outputs": []
    },
    {
      "cell_type": "markdown",
      "metadata": {
        "id": "j-LWtJyWCVhG",
        "colab_type": "text"
      },
      "source": [
        "## Score per J Type"
      ]
    },
    {
      "cell_type": "code",
      "metadata": {
        "id": "nLatELCsCY5t",
        "colab_type": "code",
        "outputId": "02166378-5543-4b91-8184-4f7940ac18ad",
        "colab": {
          "base_uri": "https://localhost:8080/",
          "height": 55
        }
      },
      "source": [
        "val_1JHC_score = np.log((val_1JHC['preds'] - val_1JHC['scalar_coupling_constant']).abs().mean())\n",
        "val_1JHN_score = np.log((val_1JHN['preds'] - val_1JHN['scalar_coupling_constant']).abs().mean())\n",
        "val_2JHH_score = np.log((val_2JHH['preds'] - val_2JHH['scalar_coupling_constant']).abs().mean())\n",
        "val_2JHN_score = np.log((val_2JHN['preds'] - val_2JHN['scalar_coupling_constant']).abs().mean())\n",
        "val_2JHC_score = np.log((val_2JHC['preds'] - val_2JHC['scalar_coupling_constant']).abs().mean())\n",
        "val_3JHH_score = np.log((val_3JHH['preds'] - val_3JHH['scalar_coupling_constant']).abs().mean())\n",
        "val_3JHC_score = np.log((val_3JHC['preds'] - val_3JHC['scalar_coupling_constant']).abs().mean())\n",
        "val_3JHN_score = np.log((val_3JHN['preds'] - val_3JHN['scalar_coupling_constant']).abs().mean())\n",
        "\n",
        "\n",
        "\n",
        "val_scores = [val_1JHC_score, val_1JHN_score, val_2JHH_score,\n",
        "              val_2JHN_score, val_2JHC_score, val_3JHH_score,\n",
        "              val_3JHC_score, val_3JHN_score]\n",
        "score = np.mean(val_scores)\n",
        "score"
      ],
      "execution_count": 304,
      "outputs": [
        {
          "output_type": "execute_result",
          "data": {
            "text/plain": [
              "0.23501312758441567"
            ]
          },
          "metadata": {
            "tags": []
          },
          "execution_count": 304
        }
      ]
    },
    {
      "cell_type": "markdown",
      "metadata": {
        "id": "hoGD0D3B-wNO",
        "colab_type": "text"
      },
      "source": [
        "## Score validation"
      ]
    },
    {
      "cell_type": "code",
      "metadata": {
        "id": "qB5TbF_Z-zL-",
        "colab_type": "code",
        "outputId": "038835fe-47db-4dc7-980f-1f56037f7cbd",
        "colab": {
          "base_uri": "https://localhost:8080/",
          "height": 76
        }
      },
      "source": [
        "group_lmae(val_final['scalar_coupling_constant'], val_final['preds'], groups)"
      ],
      "execution_count": 305,
      "outputs": [
        {
          "output_type": "execute_result",
          "data": {
            "text/plain": [
              "0.23501312758441567"
            ]
          },
          "metadata": {
            "tags": []
          },
          "execution_count": 305
        }
      ]
    },
    {
      "cell_type": "markdown",
      "metadata": {
        "id": "NxIA1IMR2aLK",
        "colab_type": "text"
      },
      "source": [
        "## Test merging and engineering"
      ]
    },
    {
      "cell_type": "code",
      "metadata": {
        "id": "CpaeEaz22dUu",
        "colab_type": "code",
        "colab": {}
      },
      "source": [
        "test_merged = merge_train_structures(test, structures)"
      ],
      "execution_count": 0,
      "outputs": []
    },
    {
      "cell_type": "code",
      "metadata": {
        "id": "xcdopHlk2ezM",
        "colab_type": "code",
        "colab": {}
      },
      "source": [
        "test_merged = feature_eng(test_merged)"
      ],
      "execution_count": 0,
      "outputs": []
    },
    {
      "cell_type": "markdown",
      "metadata": {
        "id": "_AfPDbKu7bKm",
        "colab_type": "text"
      },
      "source": [
        "## Split test by J type"
      ]
    },
    {
      "cell_type": "code",
      "metadata": {
        "id": "651zeDVf3Exr",
        "colab_type": "code",
        "colab": {}
      },
      "source": [
        "test_1JHC = test_merged[test_merged['type'] == '1JHC']\n",
        "test_1JHN = test_merged[test_merged['type'] == '1JHN']\n",
        "test_2JHH = test_merged[test_merged['type'] == '2JHH']\n",
        "test_2JHC = test_merged[test_merged['type'] == '2JHC']\n",
        "test_2JHN = test_merged[test_merged['type'] == '2JHN']\n",
        "test_3JHH = test_merged[test_merged['type'] == '3JHH']\n",
        "test_3JHC = test_merged[test_merged['type'] == '3JHC']\n",
        "test_3JHN = test_merged[test_merged['type'] == '3JHN']"
      ],
      "execution_count": 0,
      "outputs": []
    },
    {
      "cell_type": "markdown",
      "metadata": {
        "id": "66rsMvPI7eQ9",
        "colab_type": "text"
      },
      "source": [
        "## Encode test"
      ]
    },
    {
      "cell_type": "code",
      "metadata": {
        "id": "W5guMjU3493I",
        "colab_type": "code",
        "colab": {
          "base_uri": "https://localhost:8080/",
          "height": 463
        },
        "outputId": "559ad4fe-0144-4217-e585-3916607ff60d"
      },
      "source": [
        "X_test_1JHC = test_1JHC[features]\n",
        "X_test_1JHN = test_1JHN[features]\n",
        "X_test_2JHH = test_2JHH[features]\n",
        "X_test_2JHN = test_2JHN[features]\n",
        "X_test_2JHC = test_2JHC[features]\n",
        "X_test_3JHH = test_3JHH[features]\n",
        "X_test_3JHC = test_3JHC[features]\n",
        "X_test_3JHN = test_3JHN[features]\n",
        "\n",
        "X_test_1JHC_encoded = encode(X_test_1JHC)\n",
        "X_test_1JHN_encoded = encode(X_test_1JHN)\n",
        "X_test_2JHH_encoded = encode(X_test_2JHH)\n",
        "X_test_2JHN_encoded = encode(X_test_2JHN)\n",
        "X_test_2JHC_encoded = encode(X_test_2JHC)\n",
        "X_test_3JHH_encoded = encode(X_test_3JHH)\n",
        "X_test_3JHC_encoded = encode(X_test_3JHC)\n",
        "X_test_3JHN_encoded = encode(X_test_3JHN)"
      ],
      "execution_count": 124,
      "outputs": [
        {
          "output_type": "error",
          "ename": "KeyError",
          "evalue": "ignored",
          "traceback": [
            "\u001b[0;31m---------------------------------------------------------------------------\u001b[0m",
            "\u001b[0;31mKeyError\u001b[0m                                  Traceback (most recent call last)",
            "\u001b[0;32m<ipython-input-124-0a916251b9eb>\u001b[0m in \u001b[0;36m<module>\u001b[0;34m()\u001b[0m\n\u001b[0;32m----> 1\u001b[0;31m \u001b[0mX_test_1JHC\u001b[0m \u001b[0;34m=\u001b[0m \u001b[0mtest_1JHC\u001b[0m\u001b[0;34m[\u001b[0m\u001b[0mfeatures\u001b[0m\u001b[0;34m]\u001b[0m\u001b[0;34m\u001b[0m\u001b[0;34m\u001b[0m\u001b[0m\n\u001b[0m\u001b[1;32m      2\u001b[0m \u001b[0mX_test_1JHN\u001b[0m \u001b[0;34m=\u001b[0m \u001b[0mtest_1JHN\u001b[0m\u001b[0;34m[\u001b[0m\u001b[0mfeatures\u001b[0m\u001b[0;34m]\u001b[0m\u001b[0;34m\u001b[0m\u001b[0;34m\u001b[0m\u001b[0m\n\u001b[1;32m      3\u001b[0m \u001b[0mX_test_2JHH\u001b[0m \u001b[0;34m=\u001b[0m \u001b[0mtest_2JHH\u001b[0m\u001b[0;34m[\u001b[0m\u001b[0mfeatures\u001b[0m\u001b[0;34m]\u001b[0m\u001b[0;34m\u001b[0m\u001b[0;34m\u001b[0m\u001b[0m\n\u001b[1;32m      4\u001b[0m \u001b[0mX_test_2JHN\u001b[0m \u001b[0;34m=\u001b[0m \u001b[0mtest_2JHN\u001b[0m\u001b[0;34m[\u001b[0m\u001b[0mfeatures\u001b[0m\u001b[0;34m]\u001b[0m\u001b[0;34m\u001b[0m\u001b[0;34m\u001b[0m\u001b[0m\n\u001b[1;32m      5\u001b[0m \u001b[0mX_test_2JHC\u001b[0m \u001b[0;34m=\u001b[0m \u001b[0mtest_2JHC\u001b[0m\u001b[0;34m[\u001b[0m\u001b[0mfeatures\u001b[0m\u001b[0;34m]\u001b[0m\u001b[0;34m\u001b[0m\u001b[0;34m\u001b[0m\u001b[0m\n",
            "\u001b[0;32m/usr/local/lib/python3.6/dist-packages/pandas/core/frame.py\u001b[0m in \u001b[0;36m__getitem__\u001b[0;34m(self, key)\u001b[0m\n\u001b[1;32m   2932\u001b[0m                 \u001b[0mkey\u001b[0m \u001b[0;34m=\u001b[0m \u001b[0mlist\u001b[0m\u001b[0;34m(\u001b[0m\u001b[0mkey\u001b[0m\u001b[0;34m)\u001b[0m\u001b[0;34m\u001b[0m\u001b[0;34m\u001b[0m\u001b[0m\n\u001b[1;32m   2933\u001b[0m             indexer = self.loc._convert_to_indexer(key, axis=1,\n\u001b[0;32m-> 2934\u001b[0;31m                                                    raise_missing=True)\n\u001b[0m\u001b[1;32m   2935\u001b[0m \u001b[0;34m\u001b[0m\u001b[0m\n\u001b[1;32m   2936\u001b[0m         \u001b[0;31m# take() does not accept boolean indexers\u001b[0m\u001b[0;34m\u001b[0m\u001b[0;34m\u001b[0m\u001b[0;34m\u001b[0m\u001b[0m\n",
            "\u001b[0;32m/usr/local/lib/python3.6/dist-packages/pandas/core/indexing.py\u001b[0m in \u001b[0;36m_convert_to_indexer\u001b[0;34m(self, obj, axis, is_setter, raise_missing)\u001b[0m\n\u001b[1;32m   1352\u001b[0m                 kwargs = {'raise_missing': True if is_setter else\n\u001b[1;32m   1353\u001b[0m                           raise_missing}\n\u001b[0;32m-> 1354\u001b[0;31m                 \u001b[0;32mreturn\u001b[0m \u001b[0mself\u001b[0m\u001b[0;34m.\u001b[0m\u001b[0m_get_listlike_indexer\u001b[0m\u001b[0;34m(\u001b[0m\u001b[0mobj\u001b[0m\u001b[0;34m,\u001b[0m \u001b[0maxis\u001b[0m\u001b[0;34m,\u001b[0m \u001b[0;34m**\u001b[0m\u001b[0mkwargs\u001b[0m\u001b[0;34m)\u001b[0m\u001b[0;34m[\u001b[0m\u001b[0;36m1\u001b[0m\u001b[0;34m]\u001b[0m\u001b[0;34m\u001b[0m\u001b[0;34m\u001b[0m\u001b[0m\n\u001b[0m\u001b[1;32m   1355\u001b[0m         \u001b[0;32melse\u001b[0m\u001b[0;34m:\u001b[0m\u001b[0;34m\u001b[0m\u001b[0;34m\u001b[0m\u001b[0m\n\u001b[1;32m   1356\u001b[0m             \u001b[0;32mtry\u001b[0m\u001b[0;34m:\u001b[0m\u001b[0;34m\u001b[0m\u001b[0;34m\u001b[0m\u001b[0m\n",
            "\u001b[0;32m/usr/local/lib/python3.6/dist-packages/pandas/core/indexing.py\u001b[0m in \u001b[0;36m_get_listlike_indexer\u001b[0;34m(self, key, axis, raise_missing)\u001b[0m\n\u001b[1;32m   1159\u001b[0m         self._validate_read_indexer(keyarr, indexer,\n\u001b[1;32m   1160\u001b[0m                                     \u001b[0mo\u001b[0m\u001b[0;34m.\u001b[0m\u001b[0m_get_axis_number\u001b[0m\u001b[0;34m(\u001b[0m\u001b[0maxis\u001b[0m\u001b[0;34m)\u001b[0m\u001b[0;34m,\u001b[0m\u001b[0;34m\u001b[0m\u001b[0;34m\u001b[0m\u001b[0m\n\u001b[0;32m-> 1161\u001b[0;31m                                     raise_missing=raise_missing)\n\u001b[0m\u001b[1;32m   1162\u001b[0m         \u001b[0;32mreturn\u001b[0m \u001b[0mkeyarr\u001b[0m\u001b[0;34m,\u001b[0m \u001b[0mindexer\u001b[0m\u001b[0;34m\u001b[0m\u001b[0;34m\u001b[0m\u001b[0m\n\u001b[1;32m   1163\u001b[0m \u001b[0;34m\u001b[0m\u001b[0m\n",
            "\u001b[0;32m/usr/local/lib/python3.6/dist-packages/pandas/core/indexing.py\u001b[0m in \u001b[0;36m_validate_read_indexer\u001b[0;34m(self, key, indexer, axis, raise_missing)\u001b[0m\n\u001b[1;32m   1250\u001b[0m             \u001b[0;32mif\u001b[0m \u001b[0;32mnot\u001b[0m\u001b[0;34m(\u001b[0m\u001b[0mself\u001b[0m\u001b[0;34m.\u001b[0m\u001b[0mname\u001b[0m \u001b[0;34m==\u001b[0m \u001b[0;34m'loc'\u001b[0m \u001b[0;32mand\u001b[0m \u001b[0;32mnot\u001b[0m \u001b[0mraise_missing\u001b[0m\u001b[0;34m)\u001b[0m\u001b[0;34m:\u001b[0m\u001b[0;34m\u001b[0m\u001b[0;34m\u001b[0m\u001b[0m\n\u001b[1;32m   1251\u001b[0m                 \u001b[0mnot_found\u001b[0m \u001b[0;34m=\u001b[0m \u001b[0mlist\u001b[0m\u001b[0;34m(\u001b[0m\u001b[0mset\u001b[0m\u001b[0;34m(\u001b[0m\u001b[0mkey\u001b[0m\u001b[0;34m)\u001b[0m \u001b[0;34m-\u001b[0m \u001b[0mset\u001b[0m\u001b[0;34m(\u001b[0m\u001b[0max\u001b[0m\u001b[0;34m)\u001b[0m\u001b[0;34m)\u001b[0m\u001b[0;34m\u001b[0m\u001b[0;34m\u001b[0m\u001b[0m\n\u001b[0;32m-> 1252\u001b[0;31m                 \u001b[0;32mraise\u001b[0m \u001b[0mKeyError\u001b[0m\u001b[0;34m(\u001b[0m\u001b[0;34m\"{} not in index\"\u001b[0m\u001b[0;34m.\u001b[0m\u001b[0mformat\u001b[0m\u001b[0;34m(\u001b[0m\u001b[0mnot_found\u001b[0m\u001b[0;34m)\u001b[0m\u001b[0;34m)\u001b[0m\u001b[0;34m\u001b[0m\u001b[0;34m\u001b[0m\u001b[0m\n\u001b[0m\u001b[1;32m   1253\u001b[0m \u001b[0;34m\u001b[0m\u001b[0m\n\u001b[1;32m   1254\u001b[0m             \u001b[0;31m# we skip the warning on Categorical/Interval\u001b[0m\u001b[0;34m\u001b[0m\u001b[0;34m\u001b[0m\u001b[0;34m\u001b[0m\u001b[0m\n",
            "\u001b[0;31mKeyError\u001b[0m: \"['mulliken_charge_0', 'mulliken_charge_1'] not in index\""
          ]
        }
      ]
    },
    {
      "cell_type": "markdown",
      "metadata": {
        "id": "EKqqO8KD7iQJ",
        "colab_type": "text"
      },
      "source": [
        "## Predict test"
      ]
    },
    {
      "cell_type": "code",
      "metadata": {
        "id": "KWen8Z_t5Y2M",
        "colab_type": "code",
        "colab": {}
      },
      "source": [
        "y_pred_test_1JHC = model_lgb_1JHC.predict(X_test_1JHC_encoded)\n",
        "y_pred_test_1JHN = model_lgb_1JHN.predict(X_test_1JHN_encoded)\n",
        "y_pred_test_2JHH = model_lgb_2JHH.predict(X_test_2JHH_encoded)\n",
        "y_pred_test_2JHC = model_lgb_2JHC.predict(X_test_2JHC_encoded)\n",
        "y_pred_test_2JHN = model_lgb_2JHN.predict(X_test_2JHN_encoded)\n",
        "y_pred_test_3JHH = model_lgb_3JHH.predict(X_test_3JHH_encoded)\n",
        "y_pred_test_3JHC = model_lgb_3JHC.predict(X_test_3JHC_encoded)\n",
        "y_pred_test_3JHN = model_lgb_3JHN.predict(X_test_3JHN_encoded)"
      ],
      "execution_count": 0,
      "outputs": []
    },
    {
      "cell_type": "code",
      "metadata": {
        "id": "XIs0N9_h5hpj",
        "colab_type": "code",
        "colab": {}
      },
      "source": [
        "test_1JHC['preds'] = y_pred_test_1JHC\n",
        "test_1JHN['preds'] = y_pred_test_1JHN\n",
        "test_2JHH['preds'] = y_pred_test_2JHH\n",
        "test_2JHN['preds'] = y_pred_test_2JHN\n",
        "test_2JHC['preds'] = y_pred_test_2JHC\n",
        "test_3JHH['preds'] = y_pred_test_3JHH\n",
        "test_3JHC['preds'] = y_pred_test_3JHC\n",
        "test_3JHN['preds'] = y_pred_test_3JHN"
      ],
      "execution_count": 0,
      "outputs": []
    },
    {
      "cell_type": "markdown",
      "metadata": {
        "id": "t5KuInPJ7mVe",
        "colab_type": "text"
      },
      "source": [
        "## Concat predicitions and submit"
      ]
    },
    {
      "cell_type": "code",
      "metadata": {
        "id": "Zegmmo_95_dA",
        "colab_type": "code",
        "colab": {}
      },
      "source": [
        "test_final = pd.concat([test_1JHC, test_1JHN, test_2JHH, test_2JHN,\n",
        "                        test_2JHC, test_3JHH, test_3JHC, test_3JHN])"
      ],
      "execution_count": 0,
      "outputs": []
    },
    {
      "cell_type": "code",
      "metadata": {
        "id": "csbkl6Ei6gbF",
        "colab_type": "code",
        "colab": {}
      },
      "source": [
        "test_final = test_final.sort_values(by=['id'])"
      ],
      "execution_count": 0,
      "outputs": []
    },
    {
      "cell_type": "code",
      "metadata": {
        "id": "L1NaXgr7gkES",
        "colab_type": "code",
        "colab": {}
      },
      "source": [
        "test_mulliken = test_mulliken.rename({'atom_index': 'atom_index_0', 'mulliken_charge': 'mulliken_charge_0'}, axis=1)\n",
        "test_final = test_final.merge(test_mulliken, on=['molecule_name', 'atom_index_0'])\n",
        "\n",
        "test_mulliken = test_mulliken.rename({'atom_index_0': 'atom_index_1', 'mulliken_charge_0': 'mulliken_charge_1'}, axis=1)\n",
        "test_final = test_final.merge(test_mulliken, on=['molecule_name', 'atom_index_1'])"
      ],
      "execution_count": 0,
      "outputs": []
    },
    {
      "cell_type": "code",
      "metadata": {
        "id": "RbtTsw0J63HC",
        "colab_type": "code",
        "colab": {}
      },
      "source": [
        "sub = pd.DataFrame(data={\n",
        "    'id': test_final['id'],\n",
        "    'scalar_coupling_constant': test_final['preds']\n",
        "})\n",
        "sub.to_csv('submissionscalar.csv', index=False)"
      ],
      "execution_count": 0,
      "outputs": []
    },
    {
      "cell_type": "code",
      "metadata": {
        "id": "nH6joCkz_bd_",
        "colab_type": "code",
        "colab": {}
      },
      "source": [
        "from google.colab import files\n",
        "files.download('submissionscalar.csv')"
      ],
      "execution_count": 0,
      "outputs": []
    },
    {
      "cell_type": "code",
      "metadata": {
        "id": "kFe6j9MzoQCm",
        "colab_type": "code",
        "colab": {
          "base_uri": "https://localhost:8080/",
          "height": 1000
        },
        "outputId": "6a529c14-6d5a-4153-e222-08e8e71228c0"
      },
      "source": [
        "models = [model_lgb_1JHC, model_lgb_1JHN, model_lgb_2JHH, model_lgb_2JHN,\n",
        "          model_lgb_2JHC, model_lgb_3JHH, model_lgb_3JHC, model_lgb_3JHN]\n",
        "\n",
        "plt.style.use('ggplot')\n",
        "\n",
        "for model in models:\n",
        "  lightgbm.plot_importance(model, title=model)\n",
        "\n"
      ],
      "execution_count": 306,
      "outputs": [
        {
          "output_type": "display_data",
          "data": {
            "image/png": "[encoded data removed]",
            "text/plain": [
              "<Figure size 432x288 with 1 Axes>"
            ]
          },
          "metadata": {
            "tags": []
          }
        },
        {
          "output_type": "display_data",
          "data": {
            "image/png": "[encoded data removed]",
            "text/plain": [
              "<Figure size 432x288 with 1 Axes>"
            ]
          },
          "metadata": {
            "tags": []
          }
        },
        {
          "output_type": "display_data",
          "data": {
            "image/png": "[encoded data removed]",
            "text/plain": [
              "<Figure size 432x288 with 1 Axes>"
            ]
          },
          "metadata": {
            "tags": []
          }
        },
        {
          "output_type": "display_data",
          "data": {
            "image/png": "[encoded data removed]",
            "text/plain": [
              "<Figure size 432x288 with 1 Axes>"
            ]
          },
          "metadata": {
            "tags": []
          }
        },
        {
          "output_type": "display_data",
          "data": {
            "image/png": "[encoded data removed]",
            "text/plain": [
              "<Figure size 432x288 with 1 Axes>"
            ]
          },
          "metadata": {
            "tags": []
          }
        },
        {
          "output_type": "display_data",
          "data": {
            "image/png": "[encoded data removed]",
            "text/plain": [
              "<Figure size 432x288 with 1 Axes>"
            ]
          },
          "metadata": {
            "tags": []
          }
        },
        {
          "output_type": "display_data",
          "data": {
            "image/png": "[encoded data removed]",
            "text/plain": [
              "<Figure size 432x288 with 1 Axes>"
            ]
          },
          "metadata": {
            "tags": []
          }
        },
        {
          "output_type": "display_data",
          "data": {
            "image/png": "[encoded data removed]",
            "text/plain": [
              "<Figure size 432x288 with 1 Axes>"
            ]
          },
          "metadata": {
            "tags": []
          }
        }
      ]
    },
    {
      "cell_type": "code",
      "metadata": {
        "id": "whBVJd39pTnH",
        "colab_type": "code",
        "colab": {}
      },
      "source": [
        ""
      ],
      "execution_count": 0,
      "outputs": []
    }
  ]
}